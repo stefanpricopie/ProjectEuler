{
 "cells": [
  {
   "cell_type": "markdown",
   "metadata": {},
   "source": [
    "### Solution #4"
   ]
  },
  {
   "cell_type": "code",
   "execution_count": 1,
   "metadata": {},
   "outputs": [],
   "source": [
    "fact = {1: 1}\n",
    "for i in range(2,10):\n",
    "    fact[i]=fact[i-1]*i"
   ]
  },
  {
   "cell_type": "code",
   "execution_count": 2,
   "metadata": {},
   "outputs": [
    {
     "name": "stdout",
     "output_type": "stream",
     "text": [
      "4\n"
     ]
    }
   ],
   "source": [
    "q = int(input())"
   ]
  },
  {
   "cell_type": "code",
   "execution_count": 3,
   "metadata": {},
   "outputs": [],
   "source": [
    "sol = []"
   ]
  },
  {
   "cell_type": "code",
   "execution_count": 5,
   "metadata": {
    "scrolled": true
   },
   "outputs": [
    {
     "name": "stdout",
     "output_type": "stream",
     "text": [
      "64 10000\n",
      "256 10000\n",
      "1024 1000\n",
      "4096 1000\n"
     ]
    }
   ],
   "source": [
    "for i in range(q):\n",
    "    n, m = [int(x) for x in input().split()]\n",
    "    sol.append([n,m,0])"
   ]
  },
  {
   "cell_type": "code",
   "execution_count": 6,
   "metadata": {},
   "outputs": [],
   "source": [
    "max_n = max([pair[0] for pair in sol])"
   ]
  },
  {
   "cell_type": "code",
   "execution_count": 8,
   "metadata": {},
   "outputs": [],
   "source": [
    "pr_div = 551\n",
    "pr_rest = 53119\n",
    "div = 275\n",
    "rest = 208000\n",
    "\n",
    "# sg[i] from 1 to 73\n",
    "sg_list = [1, 2, 5, 6, 7, 3, 4, 5, 6, 7, 8, 8, 9, 13, 9, 10, 11, 13, 14, 15,\n",
    "           16, 17, 18, 13, 14, 15, 9, 10, 11, 12, 13, 14, 12, 13, 14, 15, 19,\n",
    "           28, 24, 25, 37, 31, 32, 45, 46, 50, 66, 67, 71, 84, 89, 90, 114,\n",
    "           118, 134, 154, 158, 193, 231, 235, 247, 317, 321, 545, 843, 1052,\n",
    "           1339, 1574, 1846, 2035, 2294, 2566, 5035]\n",
    "\n",
    "total = 0\n",
    "for i in range(1,max_n+1):\n",
    "    if i <= 73:\n",
    "        total += sg_list[i-1]\n",
    "    else:\n",
    "        pr_div = pr_div + div + (pr_rest+rest)//fact[9]\n",
    "        pr_rest = (pr_rest+rest)%fact[9]\n",
    "        \n",
    "        total += pr_div*9\n",
    "\n",
    "        rest_copy = pr_rest\n",
    "        for digit in range(8,0,-1):\n",
    "            total += (rest_copy//fact[digit])*digit\n",
    "            rest_copy = rest_copy%fact[digit]\n",
    "\n",
    "        if i%9 == 0:\n",
    "            div = pr_div\n",
    "            rest = pr_rest+1\n",
    "        \n",
    "    for row in sol:\n",
    "        if row[0] == i:\n",
    "            row[2] = total%row[1]"
   ]
  },
  {
   "cell_type": "code",
   "execution_count": 9,
   "metadata": {},
   "outputs": [
    {
     "name": "stdout",
     "output_type": "stream",
     "text": [
      "3943\n",
      "1986\n",
      "559\n",
      "150\n"
     ]
    }
   ],
   "source": [
    "for row in sol:\n",
    "    print(int(row[2]))"
   ]
  },
  {
   "cell_type": "code",
   "execution_count": null,
   "metadata": {},
   "outputs": [],
   "source": []
  }
 ],
 "metadata": {
  "kernelspec": {
   "display_name": "Python 3.10.6 64-bit",
   "language": "python",
   "name": "python3"
  },
  "language_info": {
   "codemirror_mode": {
    "name": "ipython",
    "version": 3
   },
   "file_extension": ".py",
   "mimetype": "text/x-python",
   "name": "python",
   "nbconvert_exporter": "python",
   "pygments_lexer": "ipython3",
   "version": "3.10.6"
  },
  "vscode": {
   "interpreter": {
    "hash": "afb734500600fd355917ca529030176ea0ca205570884b88f2f6f7d791fd3fbe"
   }
  }
 },
 "nbformat": 4,
 "nbformat_minor": 4
}
